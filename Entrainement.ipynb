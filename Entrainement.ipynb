{
 "cells": [
  {
   "cell_type": "code",
   "execution_count": 1,
   "metadata": {},
   "outputs": [
    {
     "name": "stderr",
     "output_type": "stream",
     "text": [
      "/home/agohoundje/anaconda3/lib/python3.7/site-packages/sklearn/svm/base.py:196: FutureWarning: The default value of gamma will change from 'auto' to 'scale' in version 0.22 to account better for unscaled features. Set gamma explicitly to 'auto' or 'scale' to avoid this warning.\n",
      "  \"avoid this warning.\", FutureWarning)\n"
     ]
    },
    {
     "data": {
      "text/plain": [
       "['vectorizer.joblib']"
      ]
     },
     "execution_count": 1,
     "metadata": {},
     "output_type": "execute_result"
    }
   ],
   "source": [
    "import pandas as pd\n",
    "from sklearn.feature_extraction.text import TfidfVectorizer\n",
    "from sklearn.model_selection import train_test_split\n",
    "from sklearn.multiclass import OneVsRestClassifier\n",
    "from sklearn.svm import SVC\n",
    "from sklearn.metrics import accuracy_score\n",
    "import random\n",
    "from joblib import dump\n",
    "\n",
    "data = pd.read_csv(\"/home/agohoundje/Rendu/C-DAT-300-COT-2-1-endtoendml-narcisse.vigan/imdb.csv\", encoding=\"latin1\")\n",
    "df = pd.DataFrame(data)\n",
    "\n",
    "# Sélectionner 20 000 données aléatoires\n",
    "random_indices = random.sample(range(len(df)), 30000)\n",
    "df_sample = df.iloc[random_indices]\n",
    "\n",
    "# Preprocess and extract features\n",
    "vectorizer = TfidfVectorizer()\n",
    "X = vectorizer.fit_transform(df_sample['review'])\n",
    "y = df_sample['label']\n",
    "\n",
    "# Split the data into training and testing sets\n",
    "X_train, X_test, y_train, y_test = train_test_split(X, y, test_size=0.1, random_state=42)\n",
    "\n",
    "# Train the model\n",
    "model = OneVsRestClassifier(SVC())\n",
    "model.fit(X_train, y_train)\n",
    "\n",
    "# Sauvegarder le modèle dans un fichier\n",
    "dump(model, 'model.joblib')\n",
    "\n",
    "# Save the vocabulary of the TfidfVectorizer\n",
    "dump(vectorizer.vocabulary_, 'vectorizer_vocab.joblib')\n",
    "dump(vectorizer, 'vectorizer.joblib')"
   ]
  },
  {
   "cell_type": "code",
   "execution_count": null,
   "metadata": {},
   "outputs": [],
   "source": []
  }
 ],
 "metadata": {
  "kernelspec": {
   "display_name": "Python 3 (ipykernel)",
   "language": "python",
   "name": "python3"
  },
  "language_info": {
   "codemirror_mode": {
    "name": "ipython",
    "version": 3
   },
   "file_extension": ".py",
   "mimetype": "text/x-python",
   "name": "python",
   "nbconvert_exporter": "python",
   "pygments_lexer": "ipython3",
   "version": "3.7.3"
  }
 },
 "nbformat": 4,
 "nbformat_minor": 2
}
